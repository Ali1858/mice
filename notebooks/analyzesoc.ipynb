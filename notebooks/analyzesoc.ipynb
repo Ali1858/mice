{
  "nbformat": 4,
  "nbformat_minor": 0,
  "metadata": {
    "colab": {
      "provenance": [],
      "collapsed_sections": []
    },
    "kernelspec": {
      "name": "python3",
      "display_name": "Python 3"
    },
    "language_info": {
      "name": "python"
    }
  },
  "cells": [
    {
      "cell_type": "code",
      "execution_count": null,
      "metadata": {
        "id": "5Psao1nVfi7-"
      },
      "outputs": [],
      "source": [
        "%%capture\n",
        "\n",
        "%cd /content\n",
        "from os import environ\n",
        "\n",
        "ON_CLOUD = True\n",
        "\n",
        "if ON_CLOUD:\n",
        "    from getpass import getpass\n",
        "    from urllib.parse import quote\n",
        "    ! if [ -d mice ]; then rm -Rf mice; fi\n",
        "    ! git clone https://$GITHUB_TOKEN@github.com/Ali1858/mice.git\n",
        "    %cd mice\n",
        "else:\n",
        "    %cd .."
      ]
    },
    {
      "cell_type": "code",
      "source": [
        "%%capture\n",
        "\n",
        "! pip3 install -r requirements.txt"
      ],
      "metadata": {
        "id": "rQH2x_oQxeNI"
      },
      "execution_count": null,
      "outputs": []
    },
    {
      "cell_type": "code",
      "source": [
        "import numpy as np\n",
        "import pandas as pd"
      ],
      "metadata": {
        "id": "Lik26xyMzuSk"
      },
      "execution_count": null,
      "outputs": []
    },
    {
      "cell_type": "code",
      "source": [
        "def read_edits(path):\n",
        "    edits = pd.read_csv(path, sep=\"\\t\", lineterminator=\"\\n\", error_bad_lines=False, warn_bad_lines=True)\n",
        "\n",
        "    if edits['new_pred'].dtype == pd.np.dtype('float64'):\n",
        "        edits['new_pred'] = edits.apply(lambda row: str(int(row['new_pred']) if not np.isnan(row['new_pred']) else \"\"), axis=1)\n",
        "        edits['orig_pred'] = edits.apply(lambda row: str(int(row['orig_pred']) if not np.isnan(row['orig_pred']) else \"\"), axis=1)\n",
        "        edits['contrast_pred'] = edits.apply(lambda row: str(int(row['contrast_pred']) if not np.isnan(row['contrast_pred']) else \"\"), axis=1)\n",
        "    else:\n",
        "        edits['new_pred'].fillna(value=\"\", inplace=True)\n",
        "        edits['orig_pred'].fillna(value=\"\", inplace=True)\n",
        "        edits['contrast_pred'].fillna(value=\"\", inplace=True)\n",
        "    return edits"
      ],
      "metadata": {
        "id": "Ago5N0NOhuxf"
      },
      "execution_count": null,
      "outputs": []
    },
    {
      "cell_type": "code",
      "source": [
        "def get_best_edits(edits):\n",
        "    \"\"\" MiCE writes all edits that are found in Stage 2, \n",
        "    but we only want to evaluate the smallest per input. \n",
        "    Calling get_sorted_e() \"\"\"\n",
        "    return edits[edits['sorted_idx'] == 0]\n",
        "    \n",
        "def evaluate_edits(edits):\n",
        "    temp = edits[edits['sorted_idx'] == 0]\n",
        "    minim = temp['minimality'].mean()\n",
        "    flipped = temp[temp['new_pred'].astype(str)==temp['contrast_pred'].astype(str)]\n",
        "    nunique = temp['data_idx'].nunique()\n",
        "    flip_rate = len(flipped)/nunique\n",
        "    duration=temp['duration'].mean()\n",
        "    metrics = {\n",
        "        \"num_total\": nunique,\n",
        "        \"num_flipped\": len(flipped),\n",
        "        \"flip_rate\": flip_rate,\n",
        "        \"minimality\": minim,\n",
        "        \"duration\": duration,\n",
        "    }\n",
        "    for k, v in metrics.items():\n",
        "        print(f\"{k}: \\t{round(v, 3)}\")\n",
        "    return metrics"
      ],
      "metadata": {
        "id": "wofRviMauYQj"
      },
      "execution_count": null,
      "outputs": []
    },
    {
      "cell_type": "code",
      "source": [
        "def display_edits(row):\n",
        "    # html_original, html_edited = html_highlight_diffs(row['orig_editable_seg'], row['edited_editable_seg'])\n",
        "    minim = round(row['minimality'], 3)\n",
        "    print(f\"MINIMALITY: \\t{minim}\")\n",
        "    print(\"\")\n",
        "    print(f\"original sentence: {row['orig_editable_seg']}\")\n",
        "    print(f\"edited sentence: {row['edited_editable_seg']}\")\n",
        "\n",
        "def display_classif_results(rows):\n",
        "    for _, row in rows.iterrows():\n",
        "        orig_contrast_prob_pred = round(row['orig_contrast_prob_pred'], 3)\n",
        "        new_contrast_prob_pred = round(row['new_contrast_prob_pred'], 3)\n",
        "        print(\"-----------------------\")\n",
        "        print(f\"ORIG LABEL: \\t{row['orig_pred']}\")\n",
        "        print(f\"CONTR LABEL: \\t{row['contrast_pred']} (Orig Pred Prob: {orig_contrast_prob_pred})\")\n",
        "        print(f\"NEW LABEL: \\t{row['new_pred']} (New Pred Prob: {new_contrast_prob_pred})\")\n",
        "        print(\"\")\n",
        "        display_edits(row)\n",
        "        break\n"
      ],
      "metadata": {
        "id": "G4H1gW0muasM"
      },
      "execution_count": null,
      "outputs": []
    },
    {
      "cell_type": "markdown",
      "source": [
        "## Stats for SOC approach"
      ],
      "metadata": {
        "id": "IBjQJpnl0RLo"
      }
    },
    {
      "cell_type": "code",
      "source": [
        "import numpy as np\n",
        "import pandas as pd\n",
        "\n",
        "csv_path = \"\" #path for csv edits for the soc approach\n",
        "\n",
        "edits1 = read_edits(csv_path)\n",
        "print(edits1.shape)\n",
        "edits1 = get_best_edits(edits1)\n",
        "print(edits1.shape)\n",
        "metrics = evaluate_edits(edits1)"
      ],
      "metadata": {
        "colab": {
          "base_uri": "https://localhost:8080/"
        },
        "id": "-EtPWTDNufhZ",
        "outputId": "8db6da7f-3b51-45c7-d871-240cb90b102c"
      },
      "execution_count": null,
      "outputs": [
        {
          "output_type": "stream",
          "name": "stdout",
          "text": [
            "(253, 16)\n",
            "(40, 16)\n",
            "num_total: \t40\n",
            "num_flipped: \t31\n",
            "flip_rate: \t0.775\n",
            "minimality: \t2.447\n",
            "duration: \t1031.325\n"
          ]
        },
        {
          "output_type": "stream",
          "name": "stderr",
          "text": [
            "/usr/local/lib/python3.7/dist-packages/ipykernel_launcher.py:4: FutureWarning: The pandas.np module is deprecated and will be removed from pandas in a future version. Import numpy directly instead\n",
            "  after removing the cwd from sys.path.\n"
          ]
        }
      ]
    },
    {
      "cell_type": "code",
      "source": [
        "\n",
        "\n",
        "csv_path = \"\"\n",
        "edits1 = read_edits(csv_path)\n",
        "edits1 = get_best_edits(edits1)\n",
        "random_rows = edits1.sample(1) # random choose one text\n",
        "display_classif_results(random_rows)\n",
        "sent = random_rows[\"orig_editable_seg\"].values[0]\n"
      ],
      "metadata": {
        "colab": {
          "base_uri": "https://localhost:8080/"
        },
        "id": "o7cTzxJjP8Sm",
        "outputId": "cba79213-45e7-4cf9-8ccc-a58b431a5791"
      },
      "execution_count": null,
      "outputs": [
        {
          "output_type": "stream",
          "name": "stdout",
          "text": [
            "-----------------------\n",
            "ORIG LABEL: \tmisc\n",
            "CONTR LABEL: \tcomp (Orig Pred Prob: 0.089)\n",
            "NEW LABEL: \tcomp (New Pred Prob: 0.698)\n",
            "\n",
            "MINIMALITY: \t0.378\n",
            "\n",
            "original sentence: For sale: 030 direct slot adapter card for the mac iisi (with a mac coprocessor on it as well). If this what you are looking for. Let me know, email an offer as well if you are interested. \n",
            "edited sentence:  I have sale:  A direct -order adapter card  to my mac iisi , can I install a mac coprocessor on it as  well as you are  looking for.  Let me  know, email us as well if you are interested.  \n"
          ]
        },
        {
          "output_type": "stream",
          "name": "stderr",
          "text": [
            "/usr/local/lib/python3.7/dist-packages/ipykernel_launcher.py:4: FutureWarning: The pandas.np module is deprecated and will be removed from pandas in a future version. Import numpy directly instead\n",
            "  after removing the cwd from sys.path.\n"
          ]
        }
      ]
    },
    {
      "cell_type": "markdown",
      "source": [
        "## Grad based approach"
      ],
      "metadata": {
        "id": "_eSGYwUb0TwI"
      }
    },
    {
      "cell_type": "code",
      "source": [
        "csv_path = \"\" #path for csv edits for the grad approach\n",
        "edits1 = read_edits(csv_path)\n",
        "print(edits1.shape)\n",
        "edits1 = get_best_edits(edits1)\n",
        "edits1 = edits1[edits1['orig_editable_seg'].notna()]\n",
        "print(edits1.shape)\n",
        "metrics = evaluate_edits(edits1)"
      ],
      "metadata": {
        "colab": {
          "base_uri": "https://localhost:8080/"
        },
        "id": "FHK7oJ51pTHg",
        "outputId": "2a4f8058-13b5-484b-977f-eeb9ebee559d"
      },
      "execution_count": null,
      "outputs": [
        {
          "output_type": "stream",
          "name": "stdout",
          "text": [
            "(1860, 16)\n",
            "(40, 16)\n",
            "num_total: \t40\n",
            "num_flipped: \t39\n",
            "flip_rate: \t0.975\n",
            "minimality: \t0.636\n",
            "duration: \t64.118\n"
          ]
        },
        {
          "output_type": "stream",
          "name": "stderr",
          "text": [
            "/usr/local/lib/python3.7/dist-packages/ipykernel_launcher.py:4: FutureWarning: The pandas.np module is deprecated and will be removed from pandas in a future version. Import numpy directly instead\n",
            "  after removing the cwd from sys.path.\n",
            "/usr/local/lib/python3.7/dist-packages/ipykernel_launcher.py:4: FutureWarning: The pandas.np module is deprecated and will be removed from pandas in a future version. Import numpy directly instead\n",
            "  after removing the cwd from sys.path.\n"
          ]
        }
      ]
    },
    {
      "cell_type": "code",
      "source": [
        "\n",
        "\n",
        "\n",
        "csv_path = \"\" \n",
        "print(\"imdbgrad\")\n",
        "edits1 = read_edits(csv_path)\n",
        "edits1 = get_best_edits(edits1)\n",
        "\n",
        "edits1 = edits1[edits1[\"orig_editable_seg\"] == sent] #Getting similar sentence as SOC approach\n",
        "display_classif_results(edits1)\n"
      ],
      "metadata": {
        "colab": {
          "base_uri": "https://localhost:8080/"
        },
        "id": "4vBP24Z6wpNQ",
        "outputId": "7801f90e-f019-44e9-af1d-23851b615661"
      },
      "execution_count": null,
      "outputs": [
        {
          "output_type": "stream",
          "name": "stdout",
          "text": [
            "imdbgrad\n",
            "-----------------------\n",
            "ORIG LABEL: \tmisc\n",
            "CONTR LABEL: \tcomp (Orig Pred Prob: 0.089)\n",
            "NEW LABEL: \tcomp (New Pred Prob: 0.827)\n",
            "\n",
            "MINIMALITY: \t0.222\n",
            "\n",
            "original sentence: For sale: 030 direct slot adapter card for the mac iisi (with a mac coprocessor on it as well). If this what you are looking for. Let me know, email an offer as well if you are interested. \n",
            "edited sentence: For  the input:  Default for the  image iisi (with a v1or on it as well).  If this what you are looking for.  Let me know, email an offer as well if you are interested.  \n"
          ]
        },
        {
          "output_type": "stream",
          "name": "stderr",
          "text": [
            "/usr/local/lib/python3.7/dist-packages/ipykernel_launcher.py:4: FutureWarning: The pandas.np module is deprecated and will be removed from pandas in a future version. Import numpy directly instead\n",
            "  after removing the cwd from sys.path.\n"
          ]
        }
      ]
    },
    {
      "cell_type": "code",
      "source": [],
      "metadata": {
        "id": "qk4TtHl5vJhq"
      },
      "execution_count": null,
      "outputs": []
    }
  ]
}