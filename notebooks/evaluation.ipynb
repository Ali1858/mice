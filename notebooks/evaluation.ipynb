{
 "cells": [
  {
   "cell_type": "code",
   "execution_count": 1,
   "metadata": {},
   "outputs": [],
   "source": [
    "import pandas as pd\n",
    "import sys\n",
    "sys.path.append(\"..\")\n",
    "from src.utils import html_highlight_diffs\n",
    "from IPython.core.display import display, HTML\n",
    "import numpy as np"
   ]
  },
  {
   "cell_type": "code",
   "execution_count": 2,
   "metadata": {},
   "outputs": [],
   "source": [
    "from src.utils import load_predictor, get_ints_to_labels"
   ]
  },
  {
   "cell_type": "code",
   "execution_count": 9,
   "metadata": {},
   "outputs": [],
   "source": [
    "TASK = \"race\"\n",
    "EDIT_PATH = f\"../results/{TASK}/edits/0622/edits.csv\""
   ]
  },
  {
   "cell_type": "code",
   "execution_count": 10,
   "metadata": {},
   "outputs": [],
   "source": [
    "def read_edits(path):\n",
    "    edits = pd.read_csv(EDIT_PATH, sep=\"\\t\", lineterminator=\"\\n\", error_bad_lines=False, warn_bad_lines=True)\n",
    "\n",
    "    if edits['new_pred'].dtype == pd.np.dtype('float64'):\n",
    "        edits['new_pred'] = edits.apply(lambda row: str(int(row['new_pred']) if not np.isnan(row['new_pred']) else \"\"), axis=1)\n",
    "        edits['orig_pred'] = edits.apply(lambda row: str(int(row['orig_pred']) if not np.isnan(row['orig_pred']) else \"\"), axis=1)\n",
    "        edits['contrast_pred'] = edits.apply(lambda row: str(int(row['contrast_pred']) if not np.isnan(row['contrast_pred']) else \"\"), axis=1)\n",
    "    else:\n",
    "        edits['new_pred'].fillna(value=\"\", inplace=True)\n",
    "        edits['orig_pred'].fillna(value=\"\", inplace=True)\n",
    "        edits['contrast_pred'].fillna(value=\"\", inplace=True)\n",
    "    return edits"
   ]
  },
  {
   "cell_type": "code",
   "execution_count": 11,
   "metadata": {},
   "outputs": [],
   "source": [
    "def get_best_edits(edits):\n",
    "    \"\"\" MiCE writes all edits that are found in Stage 2, \n",
    "    but we only want to evaluate the smallest per input. \n",
    "    Calling get_sorted_e() \"\"\"\n",
    "    return edits[edits['sorted_idx'] == 0]\n",
    "    \n",
    "def evaluate_edits(edits):\n",
    "    temp = edits[edits['sorted_idx'] == 0]\n",
    "    minim = temp['minimality'].mean()\n",
    "    flipped = temp[temp['new_pred'].astype(str)==temp['contrast_pred'].astype(str)]\n",
    "    nunique = temp['data_idx'].nunique()\n",
    "    flip_rate = len(flipped)/nunique\n",
    "    duration=temp['duration'].mean()\n",
    "    metrics = {\n",
    "        \"num_total\": nunique,\n",
    "        \"num_flipped\": len(flipped),\n",
    "        \"flip_rate\": flip_rate,\n",
    "        \"minimality\": minim,\n",
    "        \"duration\": duration,\n",
    "    }\n",
    "    for k, v in metrics.items():\n",
    "        print(f\"{k}: \\t{round(v, 3)}\")\n",
    "    return metrics"
   ]
  },
  {
   "cell_type": "code",
   "execution_count": 12,
   "metadata": {},
   "outputs": [],
   "source": [
    "def display_edits(row):\n",
    "    html_original, html_edited = html_highlight_diffs(row['orig_editable_seg'], row['edited_editable_seg'])\n",
    "    minim = round(row['minimality'], 3)\n",
    "    print(f\"MINIMALITY: \\t{minim}\")\n",
    "    print(\"\")\n",
    "    display(HTML(html_original))\n",
    "    display(HTML(html_edited))\n",
    "\n",
    "def display_classif_results(rows):\n",
    "    for _, row in rows.iterrows():\n",
    "        orig_contrast_prob_pred = round(row['orig_contrast_prob_pred'], 3)\n",
    "        new_contrast_prob_pred = round(row['new_contrast_prob_pred'], 3)\n",
    "        print(\"-----------------------\")\n",
    "        print(f\"ORIG LABEL: \\t{row['orig_pred']}\")\n",
    "        print(f\"CONTR LABEL: \\t{row['contrast_pred']} (Orig Pred Prob: {orig_contrast_prob_pred})\")\n",
    "        print(f\"NEW LABEL: \\t{row['new_pred']} (New Pred Prob: {new_contrast_prob_pred})\")\n",
    "        print(\"\")\n",
    "        display_edits(row)\n",
    "\n",
    "def display_race_results(rows):\n",
    "    for _, row in rows.iterrows():\n",
    "        orig_contrast_prob_pred = round(row['orig_contrast_prob_pred'], 3)\n",
    "        new_contrast_prob_pred = round(row['new_contrast_prob_pred'], 3)\n",
    "        orig_input = eval(row['orig_input'])\n",
    "        options = orig_input['options']\n",
    "        print(\"-----------------------\")\n",
    "        print(f\"QUESTION: {orig_input['question']}\")\n",
    "        print(\"\\nOPTIONS:\")\n",
    "        for opt_idx, opt in enumerate(options):\n",
    "            print(f\"  ({opt_idx}) {opt}\")\n",
    "        print(f\"\\nORIG LABEL: \\t{row['orig_pred']}\")\n",
    "        print(f\"CONTR LABEL: \\t{row['contrast_pred']} (Orig Pred Prob: {orig_contrast_prob_pred})\")\n",
    "        print(f\"NEW LABEL: \\t{row['new_pred']} (New Pred Prob: {new_contrast_prob_pred})\")\n",
    "        print(\"\")\n",
    "        display_edits(row)"
   ]
  },
  {
   "cell_type": "code",
   "execution_count": 13,
   "metadata": {},
   "outputs": [
    {
     "name": "stdout",
     "output_type": "stream",
     "text": [
      "num_total: \t205\n",
      "num_flipped: \t196\n",
      "flip_rate: \t0.956\n",
      "minimality: \t0.34\n",
      "duration: \t41.89\n"
     ]
    },
    {
     "name": "stderr",
     "output_type": "stream",
     "text": [
      "/home/alexisr/miniconda3/envs/label_contrast_env/lib/python3.7/site-packages/ipykernel_launcher.py:4: FutureWarning: The pandas.np module is deprecated and will be removed from pandas in a future version. Import numpy directly instead\n",
      "  after removing the cwd from sys.path.\n"
     ]
    }
   ],
   "source": [
    "edits = read_edits(EDIT_PATH)\n",
    "edits = get_best_edits(edits)\n",
    "metrics = evaluate_edits(edits)"
   ]
  },
  {
   "cell_type": "code",
   "execution_count": 16,
   "metadata": {},
   "outputs": [
    {
     "name": "stdout",
     "output_type": "stream",
     "text": [
      "-----------------------\n",
      "QUESTION: If Lisa never does housework, the writer thinks she can   _   on No Housework Day.\n",
      "\n",
      "OPTIONS:\n",
      "  (0) forget housework\n",
      "  (1) do housework\n",
      "  (2) feel relaxed\n",
      "  (3) do anything except housework\n",
      "\n",
      "ORIG LABEL: \t3\n",
      "CONTR LABEL: \t1 (Orig Pred Prob: 0.336)\n",
      "NEW LABEL: \t1 (New Pred Prob: 0.99)\n",
      "\n",
      "MINIMALITY: \t0.12\n",
      "\n"
     ]
    },
    {
     "data": {
      "text/html": [
       "Are you always unwilling to do housework and cleaning for no reason? Well, you will be happy today. Today is No Housework Day. It's time to forget about housework and be relaxed. No Housework Day is always on April 7th. It is your chance to <b>do</b> <b>anything</b><b>,</b> <b>except</b> <b>housework</b><b>.</b> <b>Better</b> <b>still</b><b>,</b> <b>have</b> <b>someone</b> <b>else</b> <b>do</b> housework for a day. <b>Housework</b> <b>is</b> <b>a</b> <b>daily</b> <b>and</b> <b>endless</b> <b>job</b> and most people think it's boring to do housework. I have many friends and their wish is to stay away from housework. In fact, their wish can never come true. Do you know how to celebrate No Housework Day? Well, there are two different ways. If you usually do the housework around the house, forget it on this day. Instead, kick back and enjoy the day. Relax and do anything, except housework. If you never do housework, you can do it for your family. It gives your parents a break from the housework. And, you just might get a chance to know how much housework your parents need to do every day<b>.</b> "
      ],
      "text/plain": [
       "<IPython.core.display.HTML object>"
      ]
     },
     "metadata": {},
     "output_type": "display_data"
    },
    {
     "data": {
      "text/html": [
       "Are you always unwilling to do housework and cleaning for no reason? Well, you will be happy today. Today is No Housework Day. It's time to forget about housework and be relaxed. No Housework Day is always on April 7th. It is your chance to  <b>forget</b> housework for  a day.  <b>Those</b> <b>days</b> <b>are</b> <b>not</b> <b>meant</b> <b>to</b> <b>celebrate</b> <b>the</b> <b>day</b><b>,</b> <b>since</b> <b>many</b> <b>parents</b> <b>are</b> <b>busy</b> <b>cleaning</b> <b>up</b> <b>the</b> <b>house</b> and most people think it's boring to do housework. I  have many friends and their wish is to stay away from  housework. In fact, their wish can never come true. Do you know how to celebrate No Housework Day? Well , there are two different ways. If you usually do the housework around the house, forget it on this day. Instead, kick back and enjoy the day. Relax and do anything, except housework. If you never do housework, you can do it for your family. It gives your parents a break from the housework. And, you just might get a chance to know how much housework your parents need to do every day"
      ],
      "text/plain": [
       "<IPython.core.display.HTML object>"
      ]
     },
     "metadata": {},
     "output_type": "display_data"
    }
   ],
   "source": [
    "random_rows = edits.sample(1)\n",
    "# display_classif_results(random_rows)\n",
    "display_race_results(random_rows)"
   ]
  },
  {
   "cell_type": "code",
   "execution_count": null,
   "metadata": {},
   "outputs": [],
   "source": []
  }
 ],
 "metadata": {
  "kernelspec": {
   "display_name": "Python 3",
   "language": "python",
   "name": "python3"
  },
  "language_info": {
   "codemirror_mode": {
    "name": "ipython",
    "version": 3
   },
   "file_extension": ".py",
   "mimetype": "text/x-python",
   "name": "python",
   "nbconvert_exporter": "python",
   "pygments_lexer": "ipython3",
   "version": "3.7.9"
  }
 },
 "nbformat": 4,
 "nbformat_minor": 2
}
